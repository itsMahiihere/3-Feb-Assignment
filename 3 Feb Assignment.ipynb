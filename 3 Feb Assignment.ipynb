{
 "cells": [
  {
   "cell_type": "code",
   "execution_count": null,
   "id": "dfb7b6a5-d740-4064-9013-fdaf1195e255",
   "metadata": {},
   "outputs": [],
   "source": [
    "# Q1.Ans:-"
   ]
  },
  {
   "cell_type": "code",
   "execution_count": 1,
   "id": "4e58e5d8-c113-42a1-b882-72e649e35ffa",
   "metadata": {},
   "outputs": [],
   "source": [
    "# The keyword use to create funtion in python is \"def\"."
   ]
  },
  {
   "cell_type": "code",
   "execution_count": 7,
   "id": "36134945-04a9-407a-8632-ebc4d19a7b50",
   "metadata": {},
   "outputs": [
    {
     "name": "stdout",
     "output_type": "stream",
     "text": [
      "List of odd number from 1 to 25 is:\n",
      " [1, 3, 5, 7, 9, 11, 13, 15, 17, 19, 21, 23, 25]\n"
     ]
    }
   ],
   "source": [
    "odd_number_list = []\n",
    "def find_odd_numbers(n):\n",
    "    for i in range(1, n+1):\n",
    "        if i % 2 != 0:\n",
    "            odd_number_list.append(i)\n",
    "    return odd_number_list\n",
    "\n",
    "print(\"List of odd number from 1 to 25 is:\\n\",find_odd_numbers(25))\n",
    "            \n",
    "        "
   ]
  },
  {
   "cell_type": "code",
   "execution_count": 8,
   "id": "e1d2173c-7666-4d1e-bd70-e0483472e42c",
   "metadata": {},
   "outputs": [],
   "source": [
    "# Q2. Ans:-"
   ]
  },
  {
   "cell_type": "code",
   "execution_count": null,
   "id": "66dd71c9-a205-4692-898a-499b1c0d65cb",
   "metadata": {},
   "outputs": [],
   "source": [
    "# *args allows you to pass the desired number of arguments to the function. "
   ]
  },
  {
   "cell_type": "code",
   "execution_count": 9,
   "id": "6cd81ed6-6f8e-4c9e-b91e-fb47f1ea4b5a",
   "metadata": {},
   "outputs": [],
   "source": [
    "# **kwargs stands for keyword arguments. The only difference from args is that it uses keywords and returns the values in the form of a dictionary."
   ]
  },
  {
   "cell_type": "code",
   "execution_count": 10,
   "id": "2b94c7ac-a375-43a5-bd85-a59c988336f8",
   "metadata": {},
   "outputs": [],
   "source": [
    "# Example for *arg:-\n",
    "def fun1(*arg):\n",
    "    for i in arg:\n",
    "        print(i)"
   ]
  },
  {
   "cell_type": "code",
   "execution_count": 11,
   "id": "eca403ec-744d-4f9a-a6c3-ae56125c10ba",
   "metadata": {},
   "outputs": [
    {
     "name": "stdout",
     "output_type": "stream",
     "text": [
      "maya\n",
      "2\n",
      "4.0\n",
      "ram\n"
     ]
    }
   ],
   "source": [
    "fun1('maya',2,4.0,'ram')"
   ]
  },
  {
   "cell_type": "code",
   "execution_count": 12,
   "id": "83dfbeca-1238-4da3-90cc-b11258da864c",
   "metadata": {},
   "outputs": [],
   "source": [
    "# Example for **kwarg:-\n",
    "def demo(**kwargs):\n",
    "    print(kwargs)\n"
   ]
  },
  {
   "cell_type": "code",
   "execution_count": 21,
   "id": "18cbe797-3a97-4bc8-ae55-00204b1e0f19",
   "metadata": {},
   "outputs": [
    {
     "name": "stdout",
     "output_type": "stream",
     "text": [
      "{'name': 'Mahi', 'marks': 90}\n"
     ]
    }
   ],
   "source": [
    "demo(name='Mahi',marks=90)"
   ]
  },
  {
   "cell_type": "code",
   "execution_count": 3,
   "id": "459222ee-5a7d-4813-9bee-4824d2c552f6",
   "metadata": {},
   "outputs": [],
   "source": [
    "# Q3. Ans:-\n"
   ]
  },
  {
   "cell_type": "code",
   "execution_count": 4,
   "id": "bde69cd8-bf37-4009-b656-caaa04658624",
   "metadata": {},
   "outputs": [],
   "source": [
    "# iterators are methods that iterate collections like lists, tuples, etc.\n",
    "# Using an iterator method, we can loop through an object and return its elements.\n",
    "#  It implements two methods, __iter__() and __next__(), to allow the iteration.\n",
    "\n",
    "# The __iter__() method initializes the iterator object, and\n",
    "# the __next__() method is used to get the next value in the sequence."
   ]
  },
  {
   "cell_type": "code",
   "execution_count": 7,
   "id": "991322d8-1a33-4eac-aab5-ddce3e2e8ea5",
   "metadata": {},
   "outputs": [
    {
     "name": "stdout",
     "output_type": "stream",
     "text": [
      "2\n",
      "4\n",
      "6\n",
      "8\n",
      "10\n"
     ]
    }
   ],
   "source": [
    "# to print the first five elements of the given list [2, 4, 6, 8, 10, 12, 14,16, 18, 20].\n",
    "\n",
    "class ListIterator:\n",
    "    def __init__(self, lst):\n",
    "        self.lst = lst\n",
    "        self.index = 0\n",
    "        \n",
    "    def __iter__(self):\n",
    "        return self\n",
    "\n",
    "    def __next__(self):\n",
    "        if self.index == len(self.lst):\n",
    "            raise StopIteration\n",
    "        else:\n",
    "            value = self.lst[self.index]\n",
    "            self.index += 1\n",
    "            return value\n",
    "\n",
    "numbers = [2, 4, 6, 8, 10, 12, 14, 16, 18, 20]\n",
    "numbers_iterator = ListIterator(numbers)\n",
    "\n",
    "for i in range(5):\n",
    "    print(next(numbers_iterator))"
   ]
  },
  {
   "cell_type": "code",
   "execution_count": 8,
   "id": "fb50b6ea-6fb1-48eb-b207-86d179e4b4ae",
   "metadata": {},
   "outputs": [],
   "source": [
    "# Q4. Ans:-"
   ]
  },
  {
   "cell_type": "code",
   "execution_count": null,
   "id": "bd0f8bd0-36cf-445e-aaf5-d48ba2298bf6",
   "metadata": {},
   "outputs": [],
   "source": [
    "# Generator is a function that returns an iterator that produces a sequence of values when iterated over.\n",
    "# Generators are useful when we want to produce a large sequence of values, but we don't want to store all of them in memory at once.\n",
    "# The yield keyword is used in a generator function to produce a value and return it to the caller, but unlike a normal function, the generator function does not terminate."
   ]
  },
  {
   "cell_type": "code",
   "execution_count": 9,
   "id": "3e2a9d87-4d50-458f-bc24-7547220f7755",
   "metadata": {},
   "outputs": [
    {
     "name": "stdout",
     "output_type": "stream",
     "text": [
      "0\n",
      "1\n",
      "1\n",
      "2\n",
      "3\n",
      "5\n",
      "8\n",
      "13\n",
      "21\n",
      "34\n"
     ]
    }
   ],
   "source": [
    "def fibonacci_sequence():\n",
    "    a, b = 0, 1\n",
    "    while True:\n",
    "        yield a\n",
    "        a, b = b, a + b\n",
    "\n",
    "fib = fibonacci_sequence()\n",
    "for i in range(10):\n",
    "    print(next(fib))"
   ]
  },
  {
   "cell_type": "code",
   "execution_count": 10,
   "id": "4dafec1d-04a9-4170-b139-9b78eee7ae6e",
   "metadata": {},
   "outputs": [],
   "source": [
    "# Q5. Ans:-"
   ]
  },
  {
   "cell_type": "code",
   "execution_count": 11,
   "id": "3b9e7b87-bf85-4643-8286-5712f157592d",
   "metadata": {},
   "outputs": [
    {
     "name": "stdout",
     "output_type": "stream",
     "text": [
      "2\n",
      "3\n",
      "5\n",
      "7\n",
      "11\n",
      "13\n",
      "17\n",
      "19\n",
      "23\n",
      "29\n",
      "31\n",
      "37\n",
      "41\n",
      "43\n",
      "47\n",
      "53\n",
      "59\n",
      "61\n",
      "67\n",
      "71\n"
     ]
    }
   ],
   "source": [
    "def prime_numbers():\n",
    "    yield 2\n",
    "    primes = [2]\n",
    "    n = 3\n",
    "    while n < 1000:\n",
    "        is_prime = True\n",
    "        for prime in primes:\n",
    "            if n % prime == 0:\n",
    "                is_prime = False\n",
    "                break\n",
    "        if is_prime:\n",
    "            primes.append(n)\n",
    "            yield n\n",
    "        n += 2\n",
    "\n",
    "primes = prime_numbers()\n",
    "for i in range(20):\n",
    "    print(next(primes))"
   ]
  },
  {
   "cell_type": "code",
   "execution_count": 12,
   "id": "157d1628-a547-4cff-93aa-dea84d9ea721",
   "metadata": {},
   "outputs": [],
   "source": [
    "# Q6. Ans:- \n"
   ]
  },
  {
   "cell_type": "code",
   "execution_count": 13,
   "id": "1c6fd4fd-8db1-4833-b540-cf0a7020f955",
   "metadata": {},
   "outputs": [
    {
     "name": "stdout",
     "output_type": "stream",
     "text": [
      "0\n",
      "1\n",
      "1\n",
      "2\n",
      "3\n",
      "5\n",
      "8\n",
      "13\n",
      "21\n",
      "34\n"
     ]
    }
   ],
   "source": [
    "a, b = 0, 1\n",
    "count = 0\n",
    "\n",
    "while count < 10:\n",
    "    print(a)\n",
    "    n = a + b\n",
    "    a = b\n",
    "    b = n\n",
    "    count += 1"
   ]
  },
  {
   "cell_type": "code",
   "execution_count": 14,
   "id": "2ffeb795-0982-4a22-9e54-3e5e4c98880a",
   "metadata": {},
   "outputs": [],
   "source": [
    "# Q7. Ans:-\n"
   ]
  },
  {
   "cell_type": "code",
   "execution_count": 15,
   "id": "999583fd-b997-4432-84d6-fc697a3ac1bd",
   "metadata": {},
   "outputs": [
    {
     "name": "stdout",
     "output_type": "stream",
     "text": [
      "['p', 'w', 's', 'k', 'i', 'l', 'l', 's']\n"
     ]
    }
   ],
   "source": [
    "string = 'pwskills'\n",
    "letters = [letter for letter in string]\n",
    "print(letters)"
   ]
  },
  {
   "cell_type": "code",
   "execution_count": 16,
   "id": "9529ee94-89f4-4d87-8a38-8f7403b13686",
   "metadata": {},
   "outputs": [],
   "source": [
    "# 8. Ans:-"
   ]
  },
  {
   "cell_type": "code",
   "execution_count": null,
   "id": "fd761cde-a9fb-4c14-83d9-2f40bde1889e",
   "metadata": {},
   "outputs": [],
   "source": [
    "def is_palindrome(n):\n",
    "    original = n\n",
    "    reverse = 0\n",
    "    while n > 0:\n",
    "        digit = n % 10\n",
    "        reverse = reverse * 10 + digit\n",
    "        n = n // 10\n",
    "    return original == reverse\n",
    "\n",
    "number = int(input(\"Enter a number: \"))\n",
    "if is_palindrome(number):\n",
    "    print(f\"{number} is a palindrome.\")\n",
    "else:\n",
    "    print(f\"{number} is not a palindrome.\")"
   ]
  },
  {
   "cell_type": "code",
   "execution_count": null,
   "id": "f979cd35-ea94-4785-b1d9-917f0dbfce95",
   "metadata": {},
   "outputs": [],
   "source": []
  }
 ],
 "metadata": {
  "kernelspec": {
   "display_name": "Python 3 (ipykernel)",
   "language": "python",
   "name": "python3"
  },
  "language_info": {
   "codemirror_mode": {
    "name": "ipython",
    "version": 3
   },
   "file_extension": ".py",
   "mimetype": "text/x-python",
   "name": "python",
   "nbconvert_exporter": "python",
   "pygments_lexer": "ipython3",
   "version": "3.10.8"
  }
 },
 "nbformat": 4,
 "nbformat_minor": 5
}
